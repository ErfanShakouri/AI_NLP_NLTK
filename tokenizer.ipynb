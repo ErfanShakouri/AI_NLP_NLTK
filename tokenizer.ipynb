{
  "nbformat": 4,
  "nbformat_minor": 0,
  "metadata": {
    "colab": {
      "provenance": []
    },
    "kernelspec": {
      "name": "python3",
      "display_name": "Python 3"
    },
    "language_info": {
      "name": "python"
    }
  },
  "cells": [
    {
      "cell_type": "code",
      "execution_count": 9,
      "metadata": {
        "id": "A3ICj3MCpkOU"
      },
      "outputs": [],
      "source": [
        "import nltk\n",
        "from nltk.tokenize import sent_tokenize\n"
      ]
    },
    {
      "cell_type": "code",
      "source": [
        "nltk.__version__"
      ],
      "metadata": {
        "id": "7SyIH5y0qSBV",
        "colab": {
          "base_uri": "https://localhost:8080/",
          "height": 35
        },
        "outputId": "a339f6a5-900d-4452-bf7e-e3dd78027802"
      },
      "execution_count": 4,
      "outputs": [
        {
          "output_type": "execute_result",
          "data": {
            "text/plain": [
              "'3.9.1'"
            ],
            "application/vnd.google.colaboratory.intrinsic+json": {
              "type": "string"
            }
          },
          "metadata": {},
          "execution_count": 4
        }
      ]
    },
    {
      "cell_type": "markdown",
      "source": [
        "## Tokeniz text"
      ],
      "metadata": {
        "id": "hlX4MhFhtOzc"
      }
    },
    {
      "cell_type": "code",
      "source": [
        "nltk.download(\"punkt_tab\")"
      ],
      "metadata": {
        "id": "pzzw8H77qR-5",
        "colab": {
          "base_uri": "https://localhost:8080/"
        },
        "outputId": "b507876a-031b-44d9-db83-c1c27040240a"
      },
      "execution_count": 12,
      "outputs": [
        {
          "output_type": "stream",
          "name": "stderr",
          "text": [
            "[nltk_data] Downloading package punkt_tab to /root/nltk_data...\n",
            "[nltk_data]   Unzipping tokenizers/punkt_tab.zip.\n"
          ]
        },
        {
          "output_type": "execute_result",
          "data": {
            "text/plain": [
              "True"
            ]
          },
          "metadata": {},
          "execution_count": 12
        }
      ]
    },
    {
      "cell_type": "code",
      "source": [
        "# English and persian example. using sent_tokenize\n",
        "text = \"hi. I am erfan. how areyou? are you ok! Big city.\"\n",
        "persian_text = \"سلام. اسم من عرفان است. چطوری رفیق؟ آیا خوبی.! چه خبره\"\n",
        "print(\"English:\", sent_tokenize(text))\n",
        "print(\"Persian:\", sent_tokenize(persian_text))"
      ],
      "metadata": {
        "id": "ckh4d5nBqR5y",
        "colab": {
          "base_uri": "https://localhost:8080/"
        },
        "outputId": "750142e2-bab5-4fca-83de-cb3fabc2a51f"
      },
      "execution_count": 16,
      "outputs": [
        {
          "output_type": "stream",
          "name": "stdout",
          "text": [
            "English: ['hi.', 'I am erfan.', 'how areyou?', 'are you ok!', 'Big city.']\n",
            "Persian: ['سلام.', 'اسم من عرفان است.', 'چطوری رفیق؟ آیا خوبی.!', 'چه خبره']\n"
          ]
        }
      ]
    }
  ]
}